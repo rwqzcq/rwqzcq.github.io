{
 "cells": [
  {
   "cell_type": "code",
   "execution_count": 1,
   "id": "05d9a608",
   "metadata": {},
   "outputs": [],
   "source": [
    "import pandas as pd\n",
    "import networkx as nx\n",
    "from cdlib import algorithms, evaluation, readwrite\n",
    "from utils import *\n",
    "from tqdm import tqdm"
   ]
  },
  {
   "cell_type": "code",
   "execution_count": 28,
   "id": "1dcad5a0",
   "metadata": {},
   "outputs": [
    {
     "name": "stdout",
     "output_type": "stream",
     "text": [
      "(6, 2)\n",
      "(6, 2)\n"
     ]
    }
   ],
   "source": [
    "# 加载网络\n",
    "network_id = 2155442387\n",
    "df = pd.read_csv(f'./cdlib_data/networks/{network_id}.csv', header=None)\n",
    "df.columns = ['src', 'dst']\n",
    "print(df.shape)\n",
    "df = df.drop_duplicates()\n",
    "print(df.shape)"
   ]
  },
  {
   "cell_type": "code",
   "execution_count": 29,
   "id": "4f5d1d1c",
   "metadata": {},
   "outputs": [],
   "source": [
    "# 做映射\n",
    "nodes = set(df['src'].tolist()) | set(df['dst'].tolist())\n",
    "nodes_id_map = {v:index for index, v in enumerate(nodes)}"
   ]
  },
  {
   "cell_type": "code",
   "execution_count": 30,
   "id": "bfa5838b",
   "metadata": {},
   "outputs": [],
   "source": [
    "df['src_idx'] = df['src'].map(nodes_id_map)\n",
    "df['dst_idx'] = df['dst'].map(nodes_id_map)"
   ]
  },
  {
   "cell_type": "code",
   "execution_count": 31,
   "id": "27f03991",
   "metadata": {},
   "outputs": [],
   "source": [
    "# 生成图\n",
    "G = nx.Graph()\n",
    "G.add_nodes_from(df['src_idx'].tolist())\n",
    "G.add_nodes_from(df['dst_idx'].tolist())\n",
    "G.add_edges_from(df[['src_idx', 'dst_idx']].values.tolist())"
   ]
  },
  {
   "cell_type": "code",
   "execution_count": 32,
   "id": "cfcb6891-62a8-4e11-8cb9-7608f589596c",
   "metadata": {},
   "outputs": [
    {
     "data": {
      "image/png": "[encoded data removed]",
      "text/plain": [
       "<Figure size 432x288 with 1 Axes>"
      ]
     },
     "metadata": {},
     "output_type": "display_data"
    }
   ],
   "source": [
    "nx.draw(G)"
   ]
  },
  {
   "cell_type": "code",
   "execution_count": 6,
   "id": "a58080cd",
   "metadata": {},
   "outputs": [],
   "source": [
    "overlapping_algorithms = [\n",
    "    'aslpaw', 'angel', 'big_clam', 'coach',\n",
    "     'core_expansion', 'danmf', 'dcs',\n",
    "    'demon', 'dpclus', 'ebgc', 'ego_networks', \n",
    "    'egonet_splitter', 'graph_entropy', 'ipca', 'lais2', \n",
    "    'lpanni', 'lfm', \n",
    "    'multicom',  'mnmf', 'nnsed', 'node_perception',\n",
    "    'overlapping_seed_set_expansion', 'umstmo', 'percomvc', 'slpa', \n",
    "    'symmnmf', 'wCommunity'\n",
    "]\n",
    "# has problem => 'conga', 'congo', 'lemon', 'lpam', 'walkscan'"
   ]
  },
  {
   "cell_type": "code",
   "execution_count": 7,
   "id": "1fdf4b6d",
   "metadata": {},
   "outputs": [],
   "source": [
    "true_com_obj = readwrite.read_community_csv(f'./cdlib_data/communities/{network_id}.csv', ',', int)\n",
    "true_com_obj.graph = G\n",
    "true_com = true_com_obj.communities\n",
    "true_com_idx = []\n",
    "for item in true_com:\n",
    "    item = [nodes_id_map[i] for i in item]\n",
    "    true_com_idx.append(item)\n",
    "true_com_obj.communities = true_com_idx"
   ]
  },
  {
   "cell_type": "code",
   "execution_count": 24,
   "id": "f8d7c6ad",
   "metadata": {},
   "outputs": [],
   "source": [
    "params = {\n",
    "    'angel': dict(threshold=0.1),\n",
    "    'conga': dict(number_communities=len(true_com_obj.communities)),\n",
    "    'congo': dict(number_communities=len(true_com_obj.communities)),\n",
    "    'demon': dict(epsilon=0.1),\n",
    "    'lemon': dict(seeds=[1]),\n",
    "    'lfm': dict(alpha=0.8),\n",
    "    'multicom': dict(seed_node=0),\n",
    "    'node_perception': dict(threshold=0.1, overlap_threshold=0.1),\n",
    "    'overlapping_seed_set_expansion': dict(seeds=list(nodes_id_map.values())),\n",
    "    # 'walkscan': dict(min_samples=0.1)\n",
    "}"
   ]
  },
  {
   "cell_type": "code",
   "execution_count": 25,
   "id": "c01c3572-f26e-4895-b12c-3402a45c9a3d",
   "metadata": {},
   "outputs": [
    {
     "data": {
      "text/plain": [
       "[[5,\n",
       "  8,\n",
       "  15,\n",
       "  18,\n",
       "  21,\n",
       "  24,\n",
       "  25,\n",
       "  30,\n",
       "  31,\n",
       "  34,\n",
       "  36,\n",
       "  44,\n",
       "  50,\n",
       "  53,\n",
       "  56,\n",
       "  57,\n",
       "  59,\n",
       "  60,\n",
       "  63,\n",
       "  65,\n",
       "  69,\n",
       "  73,\n",
       "  74,\n",
       "  77,\n",
       "  79,\n",
       "  85,\n",
       "  91,\n",
       "  92,\n",
       "  95,\n",
       "  99,\n",
       "  103,\n",
       "  106,\n",
       "  108],\n",
       " [17, 101, 20, 29]]"
      ]
     },
     "execution_count": 25,
     "metadata": {},
     "output_type": "execute_result"
    }
   ],
   "source": [
    "method = 'walkscan'\n",
    "kwargs = {}\n",
    "if method in params:\n",
    "    kwargs = params[method]\n",
    "G_ = G.copy()\n",
    "pred_com_obj = methodFactory(method, G_, kwargs)\n",
    "pred_com_obj.communities"
   ]
  },
  {
   "cell_type": "code",
   "execution_count": 9,
   "id": "88c53fe1",
   "metadata": {},
   "outputs": [],
   "source": []
  },
  {
   "cell_type": "code",
   "execution_count": 26,
   "id": "6f24cfe9",
   "metadata": {},
   "outputs": [
    {
     "name": "stderr",
     "output_type": "stream",
     "text": [
      "  0%|                                                                                                                    | 0/28 [00:00<?, ?it/s]"
     ]
    },
    {
     "name": "stdout",
     "output_type": "stream",
     "text": [
      "aslpaw\n"
     ]
    },
    {
     "name": "stderr",
     "output_type": "stream",
     "text": [
      "  4%|███▊                                                                                                        | 1/28 [00:20<09:20, 20.75s/it]"
     ]
    },
    {
     "name": "stdout",
     "output_type": "stream",
     "text": [
      "angel\n",
      "big_clam\n"
     ]
    },
    {
     "name": "stderr",
     "output_type": "stream",
     "text": [
      " 18%|███████████████████▎                                                                                        | 5/28 [00:21<01:02,  2.71s/it]"
     ]
    },
    {
     "name": "stdout",
     "output_type": "stream",
     "text": [
      "coach\n",
      "core_expansion\n",
      "danmf\n",
      "dcs\n"
     ]
    },
    {
     "name": "stderr",
     "output_type": "stream",
     "text": [
      " 32%|██████████████████████████████████▋                                                                         | 9/28 [00:21<00:19,  1.02s/it]"
     ]
    },
    {
     "name": "stdout",
     "output_type": "stream",
     "text": [
      "demon\n",
      "dpclus\n",
      "ebgc\n",
      "ego_networks\n"
     ]
    },
    {
     "name": "stderr",
     "output_type": "stream",
     "text": [
      " 46%|█████████████████████████████████████████████████▋                                                         | 13/28 [00:22<00:08,  1.80it/s]"
     ]
    },
    {
     "name": "stdout",
     "output_type": "stream",
     "text": [
      "egonet_splitter\n",
      "graph_entropy\n",
      "ipca\n",
      "lais2\n"
     ]
    },
    {
     "name": "stderr",
     "output_type": "stream",
     "text": [
      " 54%|█████████████████████████████████████████████████████████▎                                                 | 15/28 [00:23<00:07,  1.77it/s]"
     ]
    },
    {
     "name": "stdout",
     "output_type": "stream",
     "text": [
      "lpanni\n",
      "lfm\n",
      "multicom\n"
     ]
    },
    {
     "name": "stderr",
     "output_type": "stream",
     "text": [
      " 64%|████████████████████████████████████████████████████████████████████▊                                      | 18/28 [00:25<00:06,  1.67it/s]"
     ]
    },
    {
     "name": "stdout",
     "output_type": "stream",
     "text": [
      "mnmf\n"
     ]
    },
    {
     "name": "stderr",
     "output_type": "stream",
     "text": [
      " 75%|████████████████████████████████████████████████████████████████████████████████▎                          | 21/28 [00:26<00:02,  2.41it/s]"
     ]
    },
    {
     "name": "stdout",
     "output_type": "stream",
     "text": [
      "nnsed\n",
      "node_perception\n",
      "overlapping_seed_set_expansion\n"
     ]
    },
    {
     "name": "stderr",
     "output_type": "stream",
     "text": [
      " 89%|███████████████████████████████████████████████████████████████████████████████████████████████▌           | 25/28 [00:27<00:00,  3.55it/s]"
     ]
    },
    {
     "name": "stdout",
     "output_type": "stream",
     "text": [
      "umstmo\n",
      "percomvc\n",
      "slpa\n"
     ]
    },
    {
     "name": "stderr",
     "output_type": "stream",
     "text": [
      " 93%|███████████████████████████████████████████████████████████████████████████████████████████████████▎       | 26/28 [00:27<00:00,  4.09it/s]"
     ]
    },
    {
     "name": "stdout",
     "output_type": "stream",
     "text": [
      "symmnmf\n",
      "walkscan\n",
      "wCommunity\n"
     ]
    },
    {
     "name": "stderr",
     "output_type": "stream",
     "text": [
      "100%|███████████████████████████████████████████████████████████████████████████████████████████████████████████| 28/28 [00:27<00:00,  1.02it/s]\n"
     ]
    }
   ],
   "source": [
    "new_elist = ['nf1', 'f1', 'overlapping_normalized_mutual_information_LFK','overlapping_normalized_mutual_information_MGH']\n",
    "metric_data = []\n",
    "for method in tqdm(overlapping_algorithms):\n",
    "    print(method)\n",
    "    kwargs = {}\n",
    "    if method in params:\n",
    "        kwargs = params[method]\n",
    "    G_ = G.copy()\n",
    "    pred_com_obj = methodFactory(method, G_, kwargs)\n",
    "    eva_results = []\n",
    "    for eval_m in new_elist:\n",
    "        eva_result = eval(f'evaluation.{eval_m}(pred_com_obj, true_com_obj)')\n",
    "        eva_score = round(eva_result.score, 4)\n",
    "        eva_score = str(eva_score)\n",
    "        eva_results.append(eva_score)\n",
    "    metric_data.append(eva_results)\n",
    "    \n",
    "    "
   ]
  },
  {
   "cell_type": "code",
   "execution_count": 27,
   "id": "ac8d0cef",
   "metadata": {},
   "outputs": [
    {
     "data": {
      "text/plain": [
       "[['0.0889', '0.2348', '0.0904', '0.053'],\n",
       " ['0.043', '0.2175', '0.0', '0.0'],\n",
       " ['0.0866', '0.2557', '0.0264', '0.0173'],\n",
       " ['0.0994', '0.1858', '0.0971', '0.081'],\n",
       " ['0.0904', '0.1958', '0.1308', '0.1171'],\n",
       " ['0.0623', '0.3738', '0.0226', '0.0143'],\n",
       " ['0.1706', '0.2338', '0.0453', '0.04'],\n",
       " ['0.0238', '0.286', '0.0929', '0.0248'],\n",
       " ['0.1315', '0.22', '0.0815', '0.0494'],\n",
       " ['0.0641', '0.2114', '0.0935', '0.0413'],\n",
       " ['0.0244', '0.1526', '0.1981', '0.0965'],\n",
       " ['0.1085', '0.2905', '0.0508', '0.041'],\n",
       " ['0.0532', '0.2071', '0.1065', '0.0508'],\n",
       " ['0.0653', '0.2075', '0.0595', '0.0521'],\n",
       " ['0.0455', '0.1817', '0.0984', '0.102'],\n",
       " ['0.2018', '0.2979', '0.0652', '0.049'],\n",
       " ['0.0229', '0.2478', '0.0842', '0.0795'],\n",
       " ['0.0809', '0.2675', '0.0865', '0.0761'],\n",
       " ['0.0682', '0.376', '0.0254', '0.0211'],\n",
       " ['0.0409', '0.2417', '0.0', '0.0'],\n",
       " ['0.0714', '0.2229', '0.205', '0.1622'],\n",
       " ['0.0529', '0.1773', '0.0585', '0.0283'],\n",
       " ['0.0566', '0.2137', '0.0894', '0.0413'],\n",
       " ['0.03', '0.405', '0.0886', '0.0159'],\n",
       " ['0.0899', '0.2529', '0.0446', '0.0534'],\n",
       " ['0.0366', '0.1962', '0.0238', '0.0062'],\n",
       " ['0.0026', '0.14', '0.0', '0.0'],\n",
       " ['0.0577', '0.1937', '0.0659', '0.0258']]"
      ]
     },
     "execution_count": 27,
     "metadata": {},
     "output_type": "execute_result"
    }
   ],
   "source": [
    "metric_data"
   ]
  },
  {
   "cell_type": "code",
   "execution_count": 15,
   "id": "9110962f",
   "metadata": {},
   "outputs": [
    {
     "data": {
      "text/html": [
       "<div>\n",
       "<style scoped>\n",
       "    .dataframe tbody tr th:only-of-type {\n",
       "        vertical-align: middle;\n",
       "    }\n",
       "\n",
       "    .dataframe tbody tr th {\n",
       "        vertical-align: top;\n",
       "    }\n",
       "\n",
       "    .dataframe thead th {\n",
       "        text-align: right;\n",
       "    }\n",
       "</style>\n",
       "<table border=\"1\" class=\"dataframe\">\n",
       "  <thead>\n",
       "    <tr style=\"text-align: right;\">\n",
       "      <th></th>\n",
       "      <th>nf1</th>\n",
       "      <th>f1</th>\n",
       "      <th>overlapping_normalized_mutual_information_LFK</th>\n",
       "      <th>overlapping_normalized_mutual_information_MGH</th>\n",
       "      <th>method</th>\n",
       "    </tr>\n",
       "  </thead>\n",
       "  <tbody>\n",
       "    <tr>\n",
       "      <th>0</th>\n",
       "      <td>0.0108</td>\n",
       "      <td>0.175</td>\n",
       "      <td>0.0285</td>\n",
       "      <td>0.0217</td>\n",
       "      <td>aslpaw</td>\n",
       "    </tr>\n",
       "    <tr>\n",
       "      <th>1</th>\n",
       "      <td>0.154</td>\n",
       "      <td>0.77</td>\n",
       "      <td>0.0288</td>\n",
       "      <td>0.0136</td>\n",
       "      <td>angel</td>\n",
       "    </tr>\n",
       "    <tr>\n",
       "      <th>2</th>\n",
       "      <td>0.0076</td>\n",
       "      <td>0.2267</td>\n",
       "      <td>0.0833</td>\n",
       "      <td>0.0549</td>\n",
       "      <td>big_clam</td>\n",
       "    </tr>\n",
       "    <tr>\n",
       "      <th>3</th>\n",
       "      <td>0.0041</td>\n",
       "      <td>0.0681</td>\n",
       "      <td>0.0207</td>\n",
       "      <td>0.0162</td>\n",
       "      <td>coach</td>\n",
       "    </tr>\n",
       "    <tr>\n",
       "      <th>4</th>\n",
       "      <td>0.0273</td>\n",
       "      <td>0.41</td>\n",
       "      <td>0.0419</td>\n",
       "      <td>0.0191</td>\n",
       "      <td>conga</td>\n",
       "    </tr>\n",
       "  </tbody>\n",
       "</table>\n",
       "</div>"
      ],
      "text/plain": [
       "      nf1      f1 overlapping_normalized_mutual_information_LFK  \\\n",
       "0  0.0108   0.175                                        0.0285   \n",
       "1   0.154    0.77                                        0.0288   \n",
       "2  0.0076  0.2267                                        0.0833   \n",
       "3  0.0041  0.0681                                        0.0207   \n",
       "4  0.0273    0.41                                        0.0419   \n",
       "\n",
       "  overlapping_normalized_mutual_information_MGH    method  \n",
       "0                                        0.0217    aslpaw  \n",
       "1                                        0.0136     angel  \n",
       "2                                        0.0549  big_clam  \n",
       "3                                        0.0162     coach  \n",
       "4                                        0.0191     conga  "
      ]
     },
     "execution_count": 15,
     "metadata": {},
     "output_type": "execute_result"
    }
   ],
   "source": [
    "metric_df = pd.DataFrame(data=metric_data, columns=new_elist)\n",
    "metric_df['method'] = overlapping_algorithms\n",
    "metric_df.head()"
   ]
  },
  {
   "cell_type": "code",
   "execution_count": 16,
   "id": "82679c04",
   "metadata": {},
   "outputs": [],
   "source": [
    "metric_df.to_csv('result.csv', index=False)"
   ]
  }
 ],
 "metadata": {
  "kernelspec": {
   "display_name": "Python 3 (ipykernel)",
   "language": "python",
   "name": "python3"
  },
  "language_info": {
   "codemirror_mode": {
    "name": "ipython",
    "version": 3
   },
   "file_extension": ".py",
   "mimetype": "text/x-python",
   "name": "python",
   "nbconvert_exporter": "python",
   "pygments_lexer": "ipython3",
   "version": "3.8.12"
  }
 },
 "nbformat": 4,
 "nbformat_minor": 5
}
